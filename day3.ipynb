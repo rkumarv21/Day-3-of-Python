{
 "cells": [
  {
   "cell_type": "code",
   "execution_count": 5,
   "id": "20b4aade",
   "metadata": {},
   "outputs": [
    {
     "name": "stdout",
     "output_type": "stream",
     "text": [
      "welcome to roller coaster ride\n",
      "what is your height200\n",
      "you are elligible to go for ride of roller coaster\n"
     ]
    }
   ],
   "source": [
    "# conditional statements  using if else statement\n",
    "# example\n",
    "print(\"welcome to roller coaster ride\")\n",
    "height = int(input(\"what is your height\"))\n",
    "if height>=120:\n",
    "    print(\"you are elligible to go for ride of roller coaster\")\n",
    "else:\n",
    "    print(\"you are not elligible to go for ride of roller coaster\")\n",
    "    "
   ]
  },
  {
   "cell_type": "markdown",
   "id": "afd6cee6",
   "metadata": {},
   "source": [
    "###### exercise 3.1"
   ]
  },
  {
   "cell_type": "code",
   "execution_count": 8,
   "id": "69c9c70e",
   "metadata": {},
   "outputs": [
    {
     "name": "stdout",
     "output_type": "stream",
     "text": [
      "what is your number24\n",
      "Given number is even!\n"
     ]
    }
   ],
   "source": [
    "# in this exercise we to find wether given number is odd or even\n",
    "number = float(input(\"what is your number\"))\n",
    "# by using if else statement we can do this\n",
    "if number%2==0:  # '%'(modular) this operator is used to calculate remainder\n",
    "    print(\"Given number is even!\")\n",
    "else:\n",
    "    print(\"Given number is odd!!\")"
   ]
  },
  {
   "cell_type": "code",
   "execution_count": 11,
   "id": "ceb667c2",
   "metadata": {},
   "outputs": [
    {
     "name": "stdout",
     "output_type": "stream",
     "text": [
      "welcome to roller coster ride\n",
      "what is your heigt120\n",
      "you are elligible for roller coster drive\n",
      "what is your age14\n",
      "cost of ride is $7\n"
     ]
    }
   ],
   "source": [
    "# NESTED IF/ ELSE statement\n",
    "# extend of roller coaster problem, here we have add one condition to check their age and then charge them accordingly\n",
    "print(\"welcome to roller coster ride\")\n",
    "height = float(input('what is your heigt'))\n",
    "if height>=120:\n",
    "    print(\"you are elligible for roller coster drive\")\n",
    "    age = int(input(\"what is your age\"))\n",
    "    if 12<= age <= 18:\n",
    "        print(\"cost of ride is $7\")\n",
    "    elif age<12:\n",
    "        print(\"cost of ride is $5\")\n",
    "    else:\n",
    "        print(\"cost of ride is $12\")\n",
    "else:\n",
    "    print(\"you are not elligible for ride\")"
   ]
  },
  {
   "cell_type": "markdown",
   "id": "20b0a183",
   "metadata": {},
   "source": [
    "###### exercise 3.2"
   ]
  },
  {
   "cell_type": "code",
   "execution_count": 18,
   "id": "234c09e2",
   "metadata": {},
   "outputs": [
    {
     "name": "stdout",
     "output_type": "stream",
     "text": [
      "Welcome to BMI calculator\n",
      "what is your weight in Kg66\n",
      "what is your Height in meter1.68\n",
      "you are in normal range\n",
      "your BMI value is 23.38\n"
     ]
    }
   ],
   "source": [
    "# upgraded form of BMI calculator where we have to tell the interpretation message of BMI value\n",
    "# so first we have to calculate the BMI\n",
    "print(\"Welcome to BMI calculator\")\n",
    "weight = float(input(\"what is your weight in Kg\"))\n",
    "height = float(input(\"what is your Height in meter\")) \n",
    "BMI = round(float(weight/height**2),2) # round is used to round up upto 2 digit\n",
    "if BMI<18.5:\n",
    "    print(\"you are underweight\")\n",
    "elif 18.5<= BMI < 25:\n",
    "    print(\"you are in normal range\")\n",
    "elif 25<= BMI <30:\n",
    "    print(\" you are in overweight range\")\n",
    "elif 30<=BMI<35:\n",
    "    print(\"you are in obese range\")\n",
    "else:\n",
    "    print(\"you are clinically obese\")\n",
    "print(f\"your BMI value is {BMI}\")\n",
    "    "
   ]
  },
  {
   "cell_type": "markdown",
   "id": "e1c766ed",
   "metadata": {},
   "source": [
    "##### exercise 3.3"
   ]
  },
  {
   "cell_type": "code",
   "execution_count": 35,
   "id": "7b3b0998",
   "metadata": {},
   "outputs": [
    {
     "name": "stdout",
     "output_type": "stream",
     "text": [
      "Welcome to Machine which will tell you given year is leap or not\n",
      "enter the year: 500\n",
      "Given year is not a leap year\n"
     ]
    }
   ],
   "source": [
    "# make a program to check wether given year is leap year or not.\n",
    "print(\"Welcome to Machine which will tell you given year is leap or not\")\n",
    "year = int(input(\"enter the year: \"))\n",
    "if year % 400 == 0:\n",
    "    print(\"Given year is Leap Year\")\n",
    "elif year%100==0:\n",
    "    print(\"Given year is not a leap year\")\n",
    "elif year%4==0:\n",
    "    print(\"Given year is a leap year\")\n",
    "else:\n",
    "    print(\"given year is not a leap year\")"
   ]
  },
  {
   "cell_type": "code",
   "execution_count": 40,
   "id": "ab57b4d5",
   "metadata": {},
   "outputs": [
    {
     "name": "stdout",
     "output_type": "stream",
     "text": [
      "enter the year: 3496\n",
      "given year is leap year\n"
     ]
    }
   ],
   "source": [
    "# another try for checking given year \n",
    "year = int(input(\"enter the year: \"))\n",
    "if year%4==0:\n",
    "    if year%100!=0:\n",
    "        print(\"given year is leap year\")\n",
    "    else:\n",
    "        print(\"given year is not a leap year\")\n",
    "elif year%400==0:\n",
    "    print(\"given year is leap year\")\n",
    "else:\n",
    "    print(\"given year is not a leap year\")"
   ]
  },
  {
   "cell_type": "markdown",
   "id": "0376375b",
   "metadata": {},
   "source": [
    "#### multiple statements"
   ]
  },
  {
   "cell_type": "code",
   "execution_count": 44,
   "id": "8bf96a7f",
   "metadata": {},
   "outputs": [
    {
     "name": "stdout",
     "output_type": "stream",
     "text": [
      "what is your height?  130\n",
      "You can take ride of roller coaster\n",
      "what is your age?  13\n",
      "cost of ride is $7\n",
      "do you want picture? say y or ny\n",
      "your final bill is $10\n"
     ]
    }
   ],
   "source": [
    "# in this problem we have to add price pictures which voluntarily\n",
    "# those who interested they can include it into their bill\n",
    "bill = 0  # intial value of bill\n",
    "height = int(input(\"what is your height?  \"))\n",
    "if height>120:\n",
    "    print(\"You can take ride of roller coaster\")\n",
    "    age = int(input(\"what is your age?  \"))\n",
    "    if age<12:\n",
    "        bill = 5\n",
    "        print(f\"cost of ride is ${bill}\")\n",
    "    elif age>18:\n",
    "        bill = 12\n",
    "        print(f\"cost of ride is ${bill}\")\n",
    "    elif 12<=age<=18:\n",
    "        bill = 7\n",
    "        print(f\"cost of ride is ${bill}\")\n",
    "    wanna_picture = input(\"do you want picture? say y or n\")\n",
    "    if wanna_picture==\"y\":\n",
    "        bill+=3\n",
    "    else:\n",
    "        bill\n",
    "    print(f\"your final bill is ${bill}\")\n",
    "else:\n",
    "    print(\"you are not elligible\")\n",
    "    \n",
    "        "
   ]
  },
  {
   "cell_type": "markdown",
   "id": "5199d6b0",
   "metadata": {},
   "source": [
    "#### exercise 3.3"
   ]
  },
  {
   "cell_type": "code",
   "execution_count": 48,
   "id": "03c46620",
   "metadata": {},
   "outputs": [
    {
     "ename": "IndentationError",
     "evalue": "unindent does not match any outer indentation level (<tokenize>, line 32)",
     "output_type": "error",
     "traceback": [
      "\u001b[1;36m  File \u001b[1;32m\"<tokenize>\"\u001b[1;36m, line \u001b[1;32m32\u001b[0m\n\u001b[1;33m    else:\u001b[0m\n\u001b[1;37m    ^\u001b[0m\n\u001b[1;31mIndentationError\u001b[0m\u001b[1;31m:\u001b[0m unindent does not match any outer indentation level\n"
     ]
    }
   ],
   "source": [
    "#this is python pizza problem. in which you have to calculate total price of the pizza. this can be done through various conditions \n",
    "# first lets define the price of the pizza\n",
    "small_price = 15\n",
    "medium_pizza = 20\n",
    "large_pizza = 25\n",
    "print(\"welcome to Pizza delivery shop\")\n",
    "size = input(\" what size pizza do you want?  s or m or l\")\n",
    "if size==\"s\":\n",
    "    print(f\"price of small size pizza is ${small_price})\n",
    "    add_pepperoni = input(\"do you want pepperoni? y or n\")\n",
    "    if add_pepperoni == \"y:\n",
    "          small_price+=2\n",
    "          add_cheese = input(\"do you want some extra cheese? y or n\")\n",
    "          if add_cheese == \"y\":\n",
    "          small_price+=1\n",
    "          print(f\"total cost of your pizz is ${small_price}\")\n",
    "          else:\n",
    "          print(f\"total cost of your pizz is ${small_price}\")\n",
    "    else:\n",
    "          print(f\"total cost of your pizz is ${small_price}\")\n",
    "elif size==\"m\":\n",
    "          print(f\"price of small size pizza is ${medium_price})\n",
    "          add_pepperoni = input(\"do you want pepperoni? y or n\")\n",
    "          if add_pepperoni == \"y:\n",
    "          medium_price+=2\n",
    "          add_cheese = input(\"do you want some extra cheese? y or n\")\n",
    "          if add_cheese == \"y\":\n",
    "          medium_price+=1\n",
    "          print(f\"total cost of your pizz is ${medium_price}\")\n",
    "          else:\n",
    "          print(f\"total cost of your pizz is ${medium_price}\")\n",
    "    else:\n",
    "          print(f\"total cost of your pizz is ${medium_price}\")\n",
    "else:\n",
    "    print(f\"price of small size pizza is ${large_price})\n",
    "    add_pepperoni = input(\"do you want pepperoni? y or n\")\n",
    "          if add_pepperoni == \"y:\n",
    "          large_price+=2\n",
    "          add_cheese = input(\"do you want some extra cheese? y or n\")\n",
    "          if add_cheese == \"y\":\n",
    "          large_price+=1\n",
    "          print(f\"total cost of your pizz is ${large_price}\")\n",
    "          else:\n",
    "          print(f\"total cost of your pizz is ${large_price}\")\n",
    "    else:\n",
    "          print(f\"total cost of your pizz is ${large_price}\")\n",
    "          \n",
    "          \n",
    "    "
   ]
  },
  {
   "cell_type": "code",
   "execution_count": 49,
   "id": "fd17e0a7",
   "metadata": {},
   "outputs": [],
   "source": [
    "# logical operator\n"
   ]
  },
  {
   "cell_type": "markdown",
   "id": "397c6880",
   "metadata": {},
   "source": [
    "#### project"
   ]
  },
  {
   "cell_type": "code",
   "execution_count": null,
   "id": "a8f2b369",
   "metadata": {},
   "outputs": [
    {
     "name": "stdout",
     "output_type": "stream",
     "text": [
      "welcome to love calculator!\n"
     ]
    }
   ],
   "source": [
    "# love calculator\n",
    "print(\"welcome to love calculator!\")\n",
    "name1 = input(\"what is your name? \\n\")\n",
    "name2 = input(\"what is their name? \\n\")\n",
    "s1 = int(name2.count(\"l\"))\n",
    "s2 = int(name2.count(\"o\"))\n",
    "s3 = int(name2.count(\"v\"))\n",
    "s4 = int(name2.count(\"e\"))\n",
    "f1 = int(name1.count(\"t\"))\n",
    "f2 = int(name1.count(\"r\"))\n",
    "f3 = int(name1.count(\"u\"))\n",
    "f4 = int(name1.count(\"e\"))\n",
    "n2 = float(s1+s2+s3+s4)\n",
    "n1 = float(f1+f2+f3+f4)\n",
    "N = (n1*10)+n2\n",
    "print(N)\n",
    "if N<=10 or N>=90:\n",
    "    print(\"your score is X, you go together like coke and mentos\")\n",
    "elif 40<=N<=50:\n",
    "    print(\"your score is Y, you are alright togather\")\n",
    "else:\n",
    "    print(\"your score is Z, not a good partner\")"
   ]
  },
  {
   "cell_type": "markdown",
   "id": "86e33366",
   "metadata": {},
   "source": [
    "#### project"
   ]
  },
  {
   "cell_type": "code",
   "execution_count": null,
   "id": "445d30ff",
   "metadata": {},
   "outputs": [],
   "source": [
    "# in this project we have to develop a code to play a treasure island\n",
    "print(\"Welcome to treasure island, you have to find the treasure\")\n",
    "choice_1 = input(\"where do you want to go? 'right' or 'left'\").lower()\n",
    "if choice_1 == \"left\":\n",
    "    choice_2 = input(\"do you want to 'wait' for the boat or 'swim' to cross the lake\").lower()\n",
    "    if choice_2 ==\"wait\":\n",
    "        choice_3 = input(\"To win the game you will go through which door? 'red' or 'yellow' or 'blue'\").lower()\n",
    "        if choice_3==\"yellow\":\n",
    "            print(\"you have found the treasure and you won the game!!!! Hurrah!\")\n",
    "        else:\n",
    "            print(\"Sorry,Game Over!\")\n",
    "    else:\n",
    "        print(\"Sorry,Game Over!\")\n",
    "else:\n",
    "    print(\"Sorry,Game Over!\")"
   ]
  },
  {
   "cell_type": "code",
   "execution_count": null,
   "id": "57b1dc43",
   "metadata": {},
   "outputs": [],
   "source": []
  },
  {
   "cell_type": "code",
   "execution_count": null,
   "id": "0e226395",
   "metadata": {},
   "outputs": [],
   "source": []
  }
 ],
 "metadata": {
  "kernelspec": {
   "display_name": "Python 3 (ipykernel)",
   "language": "python",
   "name": "python3"
  },
  "language_info": {
   "codemirror_mode": {
    "name": "ipython",
    "version": 3
   },
   "file_extension": ".py",
   "mimetype": "text/x-python",
   "name": "python",
   "nbconvert_exporter": "python",
   "pygments_lexer": "ipython3",
   "version": "3.9.7"
  }
 },
 "nbformat": 4,
 "nbformat_minor": 5
}
